{
 "cells": [
  {
   "cell_type": "code",
   "execution_count": 4,
   "metadata": {},
   "outputs": [],
   "source": [
    "import tensorflow as tf\n",
    "import pandas as pd\n",
    "import numpy as np\n",
    "import matplotlib.pyplot as plt\n",
    "from sklearn.preprocessing import MinMaxScaler\n",
    "from sklearn.metrics import mean_absolute_error, mean_squared_error, r2_score\n",
    "\n",
    "from tensorflow.keras.models import Sequential\n",
    "from tensorflow.keras.layers import LSTM, Dense, Dropout"
   ]
  },
  {
   "cell_type": "code",
   "execution_count": 5,
   "metadata": {},
   "outputs": [],
   "source": [
    "\n",
    "# Load dataset\n",
    "file_path = \"nvidia_stock_prices.csv\"\n",
    "df = pd.read_csv(file_path)"
   ]
  },
  {
   "cell_type": "code",
   "execution_count": 6,
   "metadata": {},
   "outputs": [
    {
     "data": {
      "text/html": [
       "<div>\n",
       "<style scoped>\n",
       "    .dataframe tbody tr th:only-of-type {\n",
       "        vertical-align: middle;\n",
       "    }\n",
       "\n",
       "    .dataframe tbody tr th {\n",
       "        vertical-align: top;\n",
       "    }\n",
       "\n",
       "    .dataframe thead th {\n",
       "        text-align: right;\n",
       "    }\n",
       "</style>\n",
       "<table border=\"1\" class=\"dataframe\">\n",
       "  <thead>\n",
       "    <tr style=\"text-align: right;\">\n",
       "      <th></th>\n",
       "      <th>Date</th>\n",
       "      <th>Open</th>\n",
       "      <th>High</th>\n",
       "      <th>Low</th>\n",
       "      <th>Close</th>\n",
       "      <th>Volume</th>\n",
       "    </tr>\n",
       "  </thead>\n",
       "  <tbody>\n",
       "    <tr>\n",
       "      <th>0</th>\n",
       "      <td>2004-01-02</td>\n",
       "      <td>0.196417</td>\n",
       "      <td>0.199083</td>\n",
       "      <td>0.192333</td>\n",
       "      <td>0.192333</td>\n",
       "      <td>436416000</td>\n",
       "    </tr>\n",
       "    <tr>\n",
       "      <th>1</th>\n",
       "      <td>2004-01-05</td>\n",
       "      <td>0.195250</td>\n",
       "      <td>0.199917</td>\n",
       "      <td>0.193500</td>\n",
       "      <td>0.198583</td>\n",
       "      <td>575292000</td>\n",
       "    </tr>\n",
       "    <tr>\n",
       "      <th>2</th>\n",
       "      <td>2004-01-06</td>\n",
       "      <td>0.198000</td>\n",
       "      <td>0.209417</td>\n",
       "      <td>0.197083</td>\n",
       "      <td>0.206667</td>\n",
       "      <td>1093344000</td>\n",
       "    </tr>\n",
       "    <tr>\n",
       "      <th>3</th>\n",
       "      <td>2004-01-07</td>\n",
       "      <td>0.204333</td>\n",
       "      <td>0.209500</td>\n",
       "      <td>0.202917</td>\n",
       "      <td>0.208500</td>\n",
       "      <td>673032000</td>\n",
       "    </tr>\n",
       "    <tr>\n",
       "      <th>4</th>\n",
       "      <td>2004-01-08</td>\n",
       "      <td>0.211083</td>\n",
       "      <td>0.212083</td>\n",
       "      <td>0.207250</td>\n",
       "      <td>0.209250</td>\n",
       "      <td>433752000</td>\n",
       "    </tr>\n",
       "    <tr>\n",
       "      <th>...</th>\n",
       "      <td>...</td>\n",
       "      <td>...</td>\n",
       "      <td>...</td>\n",
       "      <td>...</td>\n",
       "      <td>...</td>\n",
       "      <td>...</td>\n",
       "    </tr>\n",
       "    <tr>\n",
       "      <th>5028</th>\n",
       "      <td>2023-12-22</td>\n",
       "      <td>49.195000</td>\n",
       "      <td>49.382999</td>\n",
       "      <td>48.466999</td>\n",
       "      <td>48.830002</td>\n",
       "      <td>252507000</td>\n",
       "    </tr>\n",
       "    <tr>\n",
       "      <th>5029</th>\n",
       "      <td>2023-12-26</td>\n",
       "      <td>48.967999</td>\n",
       "      <td>49.599998</td>\n",
       "      <td>48.959999</td>\n",
       "      <td>49.278999</td>\n",
       "      <td>244200000</td>\n",
       "    </tr>\n",
       "    <tr>\n",
       "      <th>5030</th>\n",
       "      <td>2023-12-27</td>\n",
       "      <td>49.511002</td>\n",
       "      <td>49.680000</td>\n",
       "      <td>49.084999</td>\n",
       "      <td>49.417000</td>\n",
       "      <td>233648000</td>\n",
       "    </tr>\n",
       "    <tr>\n",
       "      <th>5031</th>\n",
       "      <td>2023-12-28</td>\n",
       "      <td>49.643002</td>\n",
       "      <td>49.883999</td>\n",
       "      <td>49.411999</td>\n",
       "      <td>49.521999</td>\n",
       "      <td>246587000</td>\n",
       "    </tr>\n",
       "    <tr>\n",
       "      <th>5032</th>\n",
       "      <td>2023-12-29</td>\n",
       "      <td>49.813000</td>\n",
       "      <td>49.997002</td>\n",
       "      <td>48.750999</td>\n",
       "      <td>49.521999</td>\n",
       "      <td>389293000</td>\n",
       "    </tr>\n",
       "  </tbody>\n",
       "</table>\n",
       "<p>5033 rows × 6 columns</p>\n",
       "</div>"
      ],
      "text/plain": [
       "            Date       Open       High        Low      Close      Volume\n",
       "0     2004-01-02   0.196417   0.199083   0.192333   0.192333   436416000\n",
       "1     2004-01-05   0.195250   0.199917   0.193500   0.198583   575292000\n",
       "2     2004-01-06   0.198000   0.209417   0.197083   0.206667  1093344000\n",
       "3     2004-01-07   0.204333   0.209500   0.202917   0.208500   673032000\n",
       "4     2004-01-08   0.211083   0.212083   0.207250   0.209250   433752000\n",
       "...          ...        ...        ...        ...        ...         ...\n",
       "5028  2023-12-22  49.195000  49.382999  48.466999  48.830002   252507000\n",
       "5029  2023-12-26  48.967999  49.599998  48.959999  49.278999   244200000\n",
       "5030  2023-12-27  49.511002  49.680000  49.084999  49.417000   233648000\n",
       "5031  2023-12-28  49.643002  49.883999  49.411999  49.521999   246587000\n",
       "5032  2023-12-29  49.813000  49.997002  48.750999  49.521999   389293000\n",
       "\n",
       "[5033 rows x 6 columns]"
      ]
     },
     "execution_count": 6,
     "metadata": {},
     "output_type": "execute_result"
    }
   ],
   "source": [
    "df"
   ]
  },
  {
   "cell_type": "code",
   "execution_count": 7,
   "metadata": {},
   "outputs": [
    {
     "name": "stdout",
     "output_type": "stream",
     "text": [
      "<class 'pandas.core.frame.DataFrame'>\n",
      "RangeIndex: 5033 entries, 0 to 5032\n",
      "Data columns (total 6 columns):\n",
      " #   Column  Non-Null Count  Dtype  \n",
      "---  ------  --------------  -----  \n",
      " 0   Date    5033 non-null   object \n",
      " 1   Open    5033 non-null   float64\n",
      " 2   High    5033 non-null   float64\n",
      " 3   Low     5033 non-null   float64\n",
      " 4   Close   5033 non-null   float64\n",
      " 5   Volume  5033 non-null   int64  \n",
      "dtypes: float64(4), int64(1), object(1)\n",
      "memory usage: 236.1+ KB\n"
     ]
    }
   ],
   "source": [
    "df.info()"
   ]
  },
  {
   "cell_type": "code",
   "execution_count": 8,
   "metadata": {},
   "outputs": [
    {
     "name": "stdout",
     "output_type": "stream",
     "text": [
      "Epoch 1/13\n"
     ]
    },
    {
     "name": "stderr",
     "output_type": "stream",
     "text": [
      "c:\\Users\\ACM\\anaconda3\\Lib\\site-packages\\keras\\src\\layers\\rnn\\rnn.py:200: UserWarning: Do not pass an `input_shape`/`input_dim` argument to a layer. When using Sequential models, prefer using an `Input(shape)` object as the first layer in the model instead.\n",
      "  super().__init__(**kwargs)\n"
     ]
    },
    {
     "name": "stdout",
     "output_type": "stream",
     "text": [
      "\u001b[1m125/125\u001b[0m \u001b[32m━━━━━━━━━━━━━━━━━━━━\u001b[0m\u001b[37m\u001b[0m \u001b[1m6s\u001b[0m 24ms/step - loss: 4.1109e-04 - val_loss: 0.0049\n",
      "Epoch 2/13\n",
      "\u001b[1m125/125\u001b[0m \u001b[32m━━━━━━━━━━━━━━━━━━━━\u001b[0m\u001b[37m\u001b[0m \u001b[1m3s\u001b[0m 22ms/step - loss: 2.4189e-05 - val_loss: 0.0045\n",
      "Epoch 3/13\n",
      "\u001b[1m125/125\u001b[0m \u001b[32m━━━━━━━━━━━━━━━━━━━━\u001b[0m\u001b[37m\u001b[0m \u001b[1m3s\u001b[0m 22ms/step - loss: 2.1744e-05 - val_loss: 0.0041\n",
      "Epoch 4/13\n",
      "\u001b[1m125/125\u001b[0m \u001b[32m━━━━━━━━━━━━━━━━━━━━\u001b[0m\u001b[37m\u001b[0m \u001b[1m3s\u001b[0m 24ms/step - loss: 1.8876e-05 - val_loss: 0.0018\n",
      "Epoch 5/13\n",
      "\u001b[1m125/125\u001b[0m \u001b[32m━━━━━━━━━━━━━━━━━━━━\u001b[0m\u001b[37m\u001b[0m \u001b[1m3s\u001b[0m 24ms/step - loss: 1.5881e-05 - val_loss: 0.0029\n",
      "Epoch 6/13\n",
      "\u001b[1m125/125\u001b[0m \u001b[32m━━━━━━━━━━━━━━━━━━━━\u001b[0m\u001b[37m\u001b[0m \u001b[1m3s\u001b[0m 23ms/step - loss: 1.5310e-05 - val_loss: 0.0054\n",
      "Epoch 7/13\n",
      "\u001b[1m125/125\u001b[0m \u001b[32m━━━━━━━━━━━━━━━━━━━━\u001b[0m\u001b[37m\u001b[0m \u001b[1m3s\u001b[0m 25ms/step - loss: 1.6782e-05 - val_loss: 0.0032\n",
      "Epoch 8/13\n",
      "\u001b[1m125/125\u001b[0m \u001b[32m━━━━━━━━━━━━━━━━━━━━\u001b[0m\u001b[37m\u001b[0m \u001b[1m4s\u001b[0m 28ms/step - loss: 1.5987e-05 - val_loss: 0.0027\n",
      "Epoch 9/13\n",
      "\u001b[1m125/125\u001b[0m \u001b[32m━━━━━━━━━━━━━━━━━━━━\u001b[0m\u001b[37m\u001b[0m \u001b[1m4s\u001b[0m 28ms/step - loss: 1.5256e-05 - val_loss: 0.0064\n",
      "Epoch 10/13\n",
      "\u001b[1m125/125\u001b[0m \u001b[32m━━━━━━━━━━━━━━━━━━━━\u001b[0m\u001b[37m\u001b[0m \u001b[1m3s\u001b[0m 26ms/step - loss: 1.4098e-05 - val_loss: 0.0027\n",
      "Epoch 11/13\n",
      "\u001b[1m125/125\u001b[0m \u001b[32m━━━━━━━━━━━━━━━━━━━━\u001b[0m\u001b[37m\u001b[0m \u001b[1m3s\u001b[0m 27ms/step - loss: 1.5497e-05 - val_loss: 0.0053\n",
      "Epoch 12/13\n",
      "\u001b[1m125/125\u001b[0m \u001b[32m━━━━━━━━━━━━━━━━━━━━\u001b[0m\u001b[37m\u001b[0m \u001b[1m4s\u001b[0m 30ms/step - loss: 1.3954e-05 - val_loss: 0.0036\n",
      "Epoch 13/13\n",
      "\u001b[1m125/125\u001b[0m \u001b[32m━━━━━━━━━━━━━━━━━━━━\u001b[0m\u001b[37m\u001b[0m \u001b[1m4s\u001b[0m 31ms/step - loss: 1.1512e-05 - val_loss: 0.0030\n",
      "\u001b[1m32/32\u001b[0m \u001b[32m━━━━━━━━━━━━━━━━━━━━\u001b[0m\u001b[37m\u001b[0m \u001b[1m1s\u001b[0m 18ms/step\n",
      "Mean Absolute Error (MAE): 1.9255503512911476\n",
      "Mean Squared Error (MSE): 7.570022743118649\n",
      "Root Mean Squared Error (RMSE): 2.751367431499953\n",
      "R2 Score: 0.9448321863424172\n"
     ]
    },
    {
     "data": {
      "image/png": "[encoded data removed]",
      "text/plain": [
       "<Figure size 1000x600 with 1 Axes>"
      ]
     },
     "metadata": {},
     "output_type": "display_data"
    }
   ],
   "source": [
    "\n",
    "#  Convert Date to datetime format (if applicable)\n",
    "if 'Date' in df.columns:\n",
    "    df['Date'] = pd.to_datetime(df['Date'])\n",
    "    df = df.sort_values(by='Date')\n",
    "\n",
    "#  Use only \"Close\" price for prediction\n",
    "data = df[['Close']].values\n",
    "\n",
    "#  Normalize the data\n",
    "scaler = MinMaxScaler(feature_range=(0,1))\n",
    "data_scaled = scaler.fit_transform(data)\n",
    "\n",
    "#  Create sequences for LSTM (Sliding Window)s\n",
    "\n",
    "def create_sequences(data, time_steps=50):\n",
    "    X, y = [], []\n",
    "    for i in range(len(data) - time_steps):\n",
    "        X.append(data[i:i+time_steps])\n",
    "        y.append(data[i+time_steps])\n",
    "    return np.array(X), np.array(y)\n",
    "\n",
    "time_steps = 50  # Past 50 days data to predict next day \n",
    "X, y = create_sequences(data_scaled, time_steps)\n",
    "\n",
    "#  Split data into training and testing sets\n",
    "train_size = int(len(X) * 0.8)\n",
    "X_train, X_test = X[:train_size], X[train_size:]\n",
    "y_train, y_test = y[:train_size], y[train_size:]\n",
    "\n",
    "#  Build LSTM Model\n",
    "model = Sequential([\n",
    "    LSTM(100, return_sequences=True, input_shape=(time_steps, 1)),  \n",
    "    Dropout(0.2),\n",
    "    LSTM(50, return_sequences=False),\n",
    "    Dropout(0.2),\n",
    "    Dense(25, activation='relu'),\n",
    "    Dense(1)  # Output layer (Predicting \"Close\" price)\n",
    "])\n",
    "\n",
    "#  Compile the model\n",
    "model.compile(optimizer='adam', loss='mean_squared_error')\n",
    "\n",
    "#  Train the model\n",
    "history = model.fit(X_train, y_train, epochs=13, batch_size=32, validation_data=(X_test, y_test), verbose=1)\n",
    "\n",
    "#  Make predictions\n",
    "y_pred = model.predict(X_test)\n",
    "\n",
    "#  Convert predictions back to original scale\n",
    "y_test_actual = scaler.inverse_transform(y_test.reshape(-1, 1))\n",
    "y_pred_actual = scaler.inverse_transform(y_pred)\n",
    "\n",
    "#  Evaluate the model\n",
    "mae = mean_absolute_error(y_test_actual, y_pred_actual)\n",
    "mse = mean_squared_error(y_test_actual, y_pred_actual)\n",
    "rmse = np.sqrt(mse)\n",
    "r2 = r2_score(y_test_actual, y_pred_actual)\n",
    "\n",
    "print(f\"Mean Absolute Error (MAE): {mae}\")\n",
    "print(f\"Mean Squared Error (MSE): {mse}\")\n",
    "print(f\"Root Mean Squared Error (RMSE): {rmse}\")\n",
    "print(f\"R2 Score: {r2}\")\n",
    "\n",
    "#  Plot Actual vs Predicted\n",
    "plt.figure(figsize=(10,6))\n",
    "plt.plot(y_test_actual, label=\"Actual Prices\", color='blue')\n",
    "plt.plot(y_pred_actual, label=\"Predicted Prices\", color='red')\n",
    "plt.legend()\n",
    "plt.title(\"Stock Price Prediction Using LSTM\")\n",
    "plt.xlabel(\"Time\")\n",
    "plt.ylabel(\"Stock Price\")\n",
    "plt.show()\n"
   ]
  },
  {
   "cell_type": "code",
   "execution_count": 9,
   "metadata": {},
   "outputs": [
    {
     "data": {
      "text/plain": [
       "array([[0.00226006],\n",
       "       [0.00238424],\n",
       "       [0.00254486],\n",
       "       ...,\n",
       "       [0.98029024],\n",
       "       [0.98237644],\n",
       "       [0.98237644]])"
      ]
     },
     "execution_count": 9,
     "metadata": {},
     "output_type": "execute_result"
    }
   ],
   "source": [
    "data_scaled"
   ]
  },
  {
   "cell_type": "code",
   "execution_count": 10,
   "metadata": {},
   "outputs": [
    {
     "name": "stdout",
     "output_type": "stream",
     "text": [
      "[[[0.00226006]\n",
      "  [0.00238424]\n",
      "  [0.00254486]\n",
      "  ...\n",
      "  [0.00188256]\n",
      "  [0.00195542]\n",
      "  [0.00187594]]\n",
      "\n",
      " [[0.00238424]\n",
      "  [0.00254486]\n",
      "  [0.00258128]\n",
      "  ...\n",
      "  [0.00195542]\n",
      "  [0.00187594]\n",
      "  [0.00202331]]\n",
      "\n",
      " [[0.00254486]\n",
      "  [0.00258128]\n",
      "  [0.00259618]\n",
      "  ...\n",
      "  [0.00187594]\n",
      "  [0.00202331]\n",
      "  [0.00211105]]\n",
      "\n",
      " ...\n",
      "\n",
      " [[0.91428644]\n",
      "  [0.87142962]\n",
      "  [0.83681834]\n",
      "  ...\n",
      "  [0.97180634]\n",
      "  [0.96862735]\n",
      "  [0.97754835]]\n",
      "\n",
      " [[0.87142962]\n",
      "  [0.83681834]\n",
      "  [0.83493086]\n",
      "  ...\n",
      "  [0.96862735]\n",
      "  [0.97754835]\n",
      "  [0.98029024]]\n",
      "\n",
      " [[0.83681834]\n",
      "  [0.83493086]\n",
      "  [0.82074459]\n",
      "  ...\n",
      "  [0.97754835]\n",
      "  [0.98029024]\n",
      "  [0.98237644]]]\n"
     ]
    }
   ],
   "source": [
    "print(X)"
   ]
  },
  {
   "cell_type": "code",
   "execution_count": 11,
   "metadata": {},
   "outputs": [
    {
     "data": {
      "text/plain": [
       "(4983, 50, 1)"
      ]
     },
     "execution_count": 11,
     "metadata": {},
     "output_type": "execute_result"
    }
   ],
   "source": [
    "X.shape"
   ]
  },
  {
   "cell_type": "code",
   "execution_count": 12,
   "metadata": {},
   "outputs": [
    {
     "name": "stdout",
     "output_type": "stream",
     "text": [
      "[[0.00202331]\n",
      " [0.00211105]\n",
      " [0.00215246]\n",
      " ...\n",
      " [0.98029024]\n",
      " [0.98237644]\n",
      " [0.98237644]]\n"
     ]
    }
   ],
   "source": [
    "print(y)"
   ]
  },
  {
   "cell_type": "code",
   "execution_count": 13,
   "metadata": {},
   "outputs": [
    {
     "data": {
      "text/plain": [
       "(4983, 1)"
      ]
     },
     "execution_count": 13,
     "metadata": {},
     "output_type": "execute_result"
    }
   ],
   "source": [
    "y.shape"
   ]
  },
  {
   "cell_type": "code",
   "execution_count": 14,
   "metadata": {},
   "outputs": [],
   "source": [
    "import pickle\n",
    "with open('model.pkl', 'wb') as file:\n",
    "    pickle.dump(model, file)\n"
   ]
  },
  {
   "cell_type": "code",
   "execution_count": 15,
   "metadata": {},
   "outputs": [
    {
     "name": "stdout",
     "output_type": "stream",
     "text": [
      "<class 'numpy.ndarray'>\n"
     ]
    }
   ],
   "source": [
    "data =df[['Close']].values\n",
    "data\n",
    "print(type(data))"
   ]
  }
 ],
 "metadata": {
  "kernelspec": {
   "display_name": "base",
   "language": "python",
   "name": "python3"
  },
  "language_info": {
   "codemirror_mode": {
    "name": "ipython",
    "version": 3
   },
   "file_extension": ".py",
   "mimetype": "text/x-python",
   "name": "python",
   "nbconvert_exporter": "python",
   "pygments_lexer": "ipython3",
   "version": "3.12.4"
  }
 },
 "nbformat": 4,
 "nbformat_minor": 2
}
